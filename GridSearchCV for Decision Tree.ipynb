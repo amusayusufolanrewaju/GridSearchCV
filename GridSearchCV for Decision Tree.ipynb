{
 "cells": [
  {
   "cell_type": "code",
   "execution_count": null,
   "id": "15c22114-1679-45d3-ad5e-583be25edeb8",
   "metadata": {},
   "outputs": [],
   "source": []
  },
  {
   "cell_type": "markdown",
   "id": "9ad8bf7a-36db-43e5-ae32-f712e8252c12",
   "metadata": {},
   "source": [
    "## 📊 Dataset Overview\n",
    "###  Column\tDescription\n",
    "* Age\tApplicant's age\n",
    "* Income\tAnnual income\n",
    "* LoanAmount\tRequested loan amount\n",
    "* LoanTermMonths\tLoan term duration (in months)\n",
    "* CreditScore\tCredit score (range: 300–850)\n",
    "* Employed\tEmployment status: Yes or No\n",
    "* Approved\tTarget variable: 1 = Approved, 0 = Rejected"
   ]
  },
  {
   "cell_type": "markdown",
   "id": "45bdfeda-4c87-4d5e-9fe5-92ac324bca5e",
   "metadata": {},
   "source": [
    "## 🧠 Goal:\n",
    "### Use this dataset to demonstrate hyperparameter tuning with GridSearchCV, especially for a model like Decision Tree or Random Forest, where parameters like:\n",
    "\n",
    "* max_depth\n",
    "\n",
    "* min_samples_split\n",
    "\n",
    "* n_estimators (in Random Forest)\n",
    "\n",
    "can be optimized."
   ]
  },
  {
   "cell_type": "markdown",
   "id": "91d26ebf-3628-41c8-b394-6a97d237abc5",
   "metadata": {},
   "source": [
    "## ✅ Full Python Code: GridSearchCV for Decision Tree"
   ]
  },
  {
   "cell_type": "code",
   "execution_count": 2,
   "id": "3b380f8d-6c8c-45e8-9159-e029811d4492",
   "metadata": {},
   "outputs": [
    {
     "data": {
      "text/html": [
       "<div>\n",
       "<style scoped>\n",
       "    .dataframe tbody tr th:only-of-type {\n",
       "        vertical-align: middle;\n",
       "    }\n",
       "\n",
       "    .dataframe tbody tr th {\n",
       "        vertical-align: top;\n",
       "    }\n",
       "\n",
       "    .dataframe thead th {\n",
       "        text-align: right;\n",
       "    }\n",
       "</style>\n",
       "<table border=\"1\" class=\"dataframe\">\n",
       "  <thead>\n",
       "    <tr style=\"text-align: right;\">\n",
       "      <th></th>\n",
       "      <th>Age</th>\n",
       "      <th>Income</th>\n",
       "      <th>LoanAmount</th>\n",
       "      <th>LoanTermMonths</th>\n",
       "      <th>CreditScore</th>\n",
       "      <th>Employed</th>\n",
       "      <th>Approved</th>\n",
       "    </tr>\n",
       "  </thead>\n",
       "  <tbody>\n",
       "    <tr>\n",
       "      <th>0</th>\n",
       "      <td>63</td>\n",
       "      <td>110798</td>\n",
       "      <td>47327</td>\n",
       "      <td>12</td>\n",
       "      <td>742</td>\n",
       "      <td>Yes</td>\n",
       "      <td>0</td>\n",
       "    </tr>\n",
       "    <tr>\n",
       "      <th>1</th>\n",
       "      <td>20</td>\n",
       "      <td>32214</td>\n",
       "      <td>38744</td>\n",
       "      <td>60</td>\n",
       "      <td>585</td>\n",
       "      <td>No</td>\n",
       "      <td>0</td>\n",
       "    </tr>\n",
       "    <tr>\n",
       "      <th>2</th>\n",
       "      <td>46</td>\n",
       "      <td>56937</td>\n",
       "      <td>28754</td>\n",
       "      <td>60</td>\n",
       "      <td>531</td>\n",
       "      <td>Yes</td>\n",
       "      <td>1</td>\n",
       "    </tr>\n",
       "    <tr>\n",
       "      <th>3</th>\n",
       "      <td>52</td>\n",
       "      <td>100849</td>\n",
       "      <td>49974</td>\n",
       "      <td>24</td>\n",
       "      <td>763</td>\n",
       "      <td>No</td>\n",
       "      <td>1</td>\n",
       "    </tr>\n",
       "    <tr>\n",
       "      <th>4</th>\n",
       "      <td>56</td>\n",
       "      <td>39006</td>\n",
       "      <td>19543</td>\n",
       "      <td>12</td>\n",
       "      <td>668</td>\n",
       "      <td>No</td>\n",
       "      <td>1</td>\n",
       "    </tr>\n",
       "    <tr>\n",
       "      <th>5</th>\n",
       "      <td>35</td>\n",
       "      <td>38115</td>\n",
       "      <td>35325</td>\n",
       "      <td>48</td>\n",
       "      <td>466</td>\n",
       "      <td>No</td>\n",
       "      <td>1</td>\n",
       "    </tr>\n",
       "    <tr>\n",
       "      <th>6</th>\n",
       "      <td>37</td>\n",
       "      <td>70827</td>\n",
       "      <td>3747</td>\n",
       "      <td>12</td>\n",
       "      <td>840</td>\n",
       "      <td>Yes</td>\n",
       "      <td>0</td>\n",
       "    </tr>\n",
       "    <tr>\n",
       "      <th>7</th>\n",
       "      <td>60</td>\n",
       "      <td>63100</td>\n",
       "      <td>48956</td>\n",
       "      <td>12</td>\n",
       "      <td>665</td>\n",
       "      <td>Yes</td>\n",
       "      <td>0</td>\n",
       "    </tr>\n",
       "    <tr>\n",
       "      <th>8</th>\n",
       "      <td>40</td>\n",
       "      <td>118296</td>\n",
       "      <td>24327</td>\n",
       "      <td>12</td>\n",
       "      <td>671</td>\n",
       "      <td>No</td>\n",
       "      <td>1</td>\n",
       "    </tr>\n",
       "    <tr>\n",
       "      <th>9</th>\n",
       "      <td>51</td>\n",
       "      <td>112619</td>\n",
       "      <td>21550</td>\n",
       "      <td>12</td>\n",
       "      <td>475</td>\n",
       "      <td>No</td>\n",
       "      <td>1</td>\n",
       "    </tr>\n",
       "  </tbody>\n",
       "</table>\n",
       "</div>"
      ],
      "text/plain": [
       "   Age  Income  LoanAmount  LoanTermMonths  CreditScore Employed  Approved\n",
       "0   63  110798       47327              12          742      Yes         0\n",
       "1   20   32214       38744              60          585       No         0\n",
       "2   46   56937       28754              60          531      Yes         1\n",
       "3   52  100849       49974              24          763       No         1\n",
       "4   56   39006       19543              12          668       No         1\n",
       "5   35   38115       35325              48          466       No         1\n",
       "6   37   70827        3747              12          840      Yes         0\n",
       "7   60   63100       48956              12          665      Yes         0\n",
       "8   40  118296       24327              12          671       No         1\n",
       "9   51  112619       21550              12          475       No         1"
      ]
     },
     "execution_count": 2,
     "metadata": {},
     "output_type": "execute_result"
    }
   ],
   "source": [
    "import pandas as pd\n",
    "from sklearn.model_selection import train_test_split, GridSearchCV\n",
    "from sklearn.preprocessing import OneHotEncoder\n",
    "from sklearn.compose import ColumnTransformer\n",
    "from sklearn.pipeline import Pipeline\n",
    "from sklearn.tree import DecisionTreeClassifier\n",
    "from sklearn.metrics import classification_report\n",
    "\n",
    "# Load the dataset\n",
    "df = pd.read_csv(\"loan_approval_dataset.csv\")\n",
    "df.head(10)\n"
   ]
  },
  {
   "cell_type": "code",
   "execution_count": 3,
   "id": "bb600ef2-6f72-4e9a-b16f-35e4fac663b2",
   "metadata": {},
   "outputs": [
    {
     "data": {
      "text/plain": [
       "(200, 7)"
      ]
     },
     "execution_count": 3,
     "metadata": {},
     "output_type": "execute_result"
    }
   ],
   "source": [
    "df.shape"
   ]
  },
  {
   "cell_type": "code",
   "execution_count": 4,
   "id": "b2e63d4a-28d2-4276-bf23-95d443430f5b",
   "metadata": {},
   "outputs": [
    {
     "name": "stdout",
     "output_type": "stream",
     "text": [
      "Fitting 5 folds for each of 24 candidates, totalling 120 fits\n",
      "Best Hyperparameters: {'model__criterion': 'gini', 'model__max_depth': 5, 'model__min_samples_split': 10}\n",
      "\n",
      "Classification Report:\n",
      "               precision    recall  f1-score   support\n",
      "\n",
      "           0       0.33      0.07      0.12        14\n",
      "           1       0.65      0.92      0.76        26\n",
      "\n",
      "    accuracy                           0.62        40\n",
      "   macro avg       0.49      0.50      0.44        40\n",
      "weighted avg       0.54      0.62      0.54        40\n",
      "\n"
     ]
    }
   ],
   "source": [
    "# Features and target\n",
    "X = df.drop(\"Approved\", axis=1)\n",
    "y = df[\"Approved\"]\n",
    "\n",
    "# Categorical and numerical columns\n",
    "categorical = [\"Employed\"]\n",
    "numerical = [\"Age\", \"Income\", \"LoanAmount\", \"LoanTermMonths\", \"CreditScore\"]\n",
    "\n",
    "# Preprocessing pipeline\n",
    "preprocessor = ColumnTransformer(\n",
    "    transformers=[(\"cat\", OneHotEncoder(drop=\"first\"), categorical)],\n",
    "    remainder=\"passthrough\"\n",
    ")\n",
    "\n",
    "# Full modeling pipeline\n",
    "pipeline = Pipeline([\n",
    "    (\"preprocessing\", preprocessor),\n",
    "    (\"model\", DecisionTreeClassifier(random_state=42))\n",
    "])\n",
    "\n",
    "# Define hyperparameter grid\n",
    "param_grid = {\n",
    "    \"model__max_depth\": [3, 5, 7, None],\n",
    "    \"model__min_samples_split\": [2, 5, 10],\n",
    "    \"model__criterion\": [\"gini\", \"entropy\"]\n",
    "}\n",
    "\n",
    "# GridSearchCV\n",
    "grid_search = GridSearchCV(\n",
    "    estimator=pipeline,\n",
    "    param_grid=param_grid,\n",
    "    cv=5,\n",
    "    scoring=\"accuracy\",\n",
    "    verbose=1,\n",
    "    n_jobs=-1\n",
    ")\n",
    "\n",
    "# Train/test split\n",
    "X_train, X_test, y_train, y_test = train_test_split(X, y, test_size=0.2, random_state=42)\n",
    "\n",
    "# Fit the model\n",
    "grid_search.fit(X_train, y_train)\n",
    "\n",
    "# Evaluate the best model\n",
    "best_model = grid_search.best_estimator_\n",
    "y_pred = best_model.predict(X_test)\n",
    "\n",
    "# Output best params and performance\n",
    "print(\"Best Hyperparameters:\", grid_search.best_params_)\n",
    "print(\"\\nClassification Report:\\n\", classification_report(y_test, y_pred))\n"
   ]
  },
  {
   "cell_type": "markdown",
   "id": "c229b4b0-2990-4b48-b3df-0931e0b8da2c",
   "metadata": {},
   "source": [
    "## 🔍 What This Code Shows:\n",
    "### How hyperparameters (like max_depth, criterion) affect model accuracy.\n",
    "\n",
    "### How to use GridSearchCV for exhaustive tuning using 5-fold cross-validation.\n",
    "\n",
    "### A classification report to evaluate the best-found model."
   ]
  },
  {
   "cell_type": "markdown",
   "id": "bd441bec-3c49-4925-9ebc-47e00d97c0de",
   "metadata": {},
   "source": [
    "## 🧠 What Happens:\n",
    "* Each customer goes through the same preprocessing steps (OneHotEncoder) as the training data.\n",
    "\n",
    "* The trained Decision Tree (with optimal hyperparameters) makes a prediction.\n",
    "\n",
    "* The model returns 1 for approved, 0 for rejected."
   ]
  },
  {
   "cell_type": "markdown",
   "id": "596d2f67-a984-43b1-b30e-a1a2b9bdf4c2",
   "metadata": {},
   "source": [
    "## ✅ Full Working Code Example:"
   ]
  },
  {
   "cell_type": "markdown",
   "id": "736705a4-9cd7-43f6-9274-3938b0a17525",
   "metadata": {},
   "source": [
    "| Customer | Age | Income | LoanAmount | LoanTermMonths | CreditScore | Employed |\n",
    "| -------- | --- | ------ | ---------- | -------------- | ----------- | -------- |\n",
    "| A        | 30  | 50,000 | 10,000     | 36             | 700         | Yes      |\n",
    "| B        | 47  | 80,000 | 20,000     | 60             | 650         | No       |\n",
    "| C        | 60  | 90,000 | 60,000     | 24             | 720         | No       |\n",
    "| D        | 25  | 30,000 | 5,000      | 24             | 720         | Yes      |"
   ]
  },
  {
   "cell_type": "markdown",
   "id": "0f3986ae-e71a-49bb-83ed-79284003944e",
   "metadata": {},
   "source": [
    "## ✅ Code to Predict Loan Approval for These Customers:\n",
    "### You’ll use the best pipeline trained earlier to predict their approval status:"
   ]
  },
  {
   "cell_type": "code",
   "execution_count": 6,
   "id": "ca2fb967-6a57-4f7d-88ba-efafa3f37c6c",
   "metadata": {},
   "outputs": [
    {
     "name": "stdout",
     "output_type": "stream",
     "text": [
      "Customer A: Approved ✅\n",
      "Customer B: Rejected ❌\n",
      "Customer C: Rejected ❌\n",
      "Customer D: Approved ✅\n"
     ]
    }
   ],
   "source": [
    "import pandas as pd\n",
    "\n",
    "# Define the 3 new customers as a DataFrame\n",
    "new_customers = pd.DataFrame([\n",
    "    {\"Age\": 30, \"Income\": 50000, \"LoanAmount\": 10000, \"LoanTermMonths\": 36, \"CreditScore\": 700, \"Employed\": \"Yes\"},\n",
    "    {\"Age\": 47, \"Income\": 63100, \"LoanAmount\": 20000, \"LoanTermMonths\": 60, \"CreditScore\": 650, \"Employed\": \"No\"},\n",
    "    {\"Age\": 60, \"Income\": 63100, \"LoanAmount\": 90000, \"LoanTermMonths\": 60, \"CreditScore\": 840, \"Employed\": \"No\"},\n",
    "    {\"Age\": 25, \"Income\": 30000, \"LoanAmount\": 5000,  \"LoanTermMonths\": 24, \"CreditScore\": 720, \"Employed\": \"Yes\"}\n",
    "])\n",
    "\n",
    "# Use the trained best model pipeline (from GridSearchCV)\n",
    "predictions = best_model.predict(new_customers)\n",
    "\n",
    "# Display predictions\n",
    "for i, prediction in enumerate(predictions, 1):\n",
    "    result = \"Approved ✅\" if prediction == 1 else \"Rejected ❌\"\n",
    "    print(f\"Customer {chr(64+i)}: {result}\")\n"
   ]
  },
  {
   "cell_type": "code",
   "execution_count": null,
   "id": "97c9bbd2-5ed2-4c0b-a328-9e15f01ef0ca",
   "metadata": {},
   "outputs": [],
   "source": []
  },
  {
   "cell_type": "code",
   "execution_count": null,
   "id": "6a57cdad-b932-414f-82dd-1314db5841f7",
   "metadata": {},
   "outputs": [],
   "source": []
  },
  {
   "cell_type": "code",
   "execution_count": null,
   "id": "515cc206-2814-4183-933b-30908089e39c",
   "metadata": {},
   "outputs": [],
   "source": []
  },
  {
   "cell_type": "code",
   "execution_count": null,
   "id": "43d80310-3ef4-49b1-bfcf-688d4f61cbb5",
   "metadata": {},
   "outputs": [],
   "source": []
  },
  {
   "cell_type": "code",
   "execution_count": null,
   "id": "015e777d-2e8f-4ffa-be94-a592d8243f94",
   "metadata": {},
   "outputs": [],
   "source": []
  }
 ],
 "metadata": {
  "kernelspec": {
   "display_name": "Python [conda env:base] *",
   "language": "python",
   "name": "conda-base-py"
  },
  "language_info": {
   "codemirror_mode": {
    "name": "ipython",
    "version": 3
   },
   "file_extension": ".py",
   "mimetype": "text/x-python",
   "name": "python",
   "nbconvert_exporter": "python",
   "pygments_lexer": "ipython3",
   "version": "3.12.7"
  }
 },
 "nbformat": 4,
 "nbformat_minor": 5
}
